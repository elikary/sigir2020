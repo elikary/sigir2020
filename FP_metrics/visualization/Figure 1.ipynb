{
 "cells": [
  {
   "cell_type": "code",
   "execution_count": null,
   "metadata": {},
   "outputs": [],
   "source": [
    "import pandas as pd"
   ]
  },
  {
   "cell_type": "code",
   "execution_count": null,
   "metadata": {},
   "outputs": [],
   "source": [
    "import matplotlib.pyplot as plt"
   ]
  },
  {
   "cell_type": "code",
   "execution_count": null,
   "metadata": {},
   "outputs": [],
   "source": [
    "evaluation = pd.read_csv('../evaluation/movielens1M/movielens1M_10.csv', sep=',', header = 0,encoding='latin-1')"
   ]
  },
  {
   "cell_type": "code",
   "execution_count": null,
   "metadata": {},
   "outputs": [],
   "source": [
    "evaluation.head()"
   ]
  },
  {
   "cell_type": "code",
   "execution_count": null,
   "metadata": {},
   "outputs": [],
   "source": [
    "evaluation = evaluation.loc[~evaluation['algorithm'].isin(['optimaltrueprecision','optimaltrueantiprecision','optimaltrueprecisionrestricted','optimaltrueantiprecisionrestricted'])]\n"
   ]
  },
  {
   "cell_type": "code",
   "execution_count": null,
   "metadata": {},
   "outputs": [],
   "source": [
    "evaluation.head()"
   ]
  },
  {
   "cell_type": "code",
   "execution_count": null,
   "metadata": {},
   "outputs": [],
   "source": [
    "import plotly.graph_objs as go\n",
    "from plotly.offline import init_notebook_mode\n",
    "import cufflinks\n",
    "cufflinks.go_offline(connected=True)\n",
    "init_notebook_mode(connected=True)"
   ]
  },
  {
   "cell_type": "markdown",
   "metadata": {},
   "source": [
    "## Condensed Rankings"
   ]
  },
  {
   "cell_type": "code",
   "execution_count": null,
   "metadata": {},
   "outputs": [],
   "source": [
    "evaluation.iplot(\n",
    "    x='antiprecision_c',\n",
    "    y='precision_c',\n",
    "    # Specify the category\n",
    "    categories='algorithm',\n",
    "    xTitle='antiP@10',\n",
    "    yTitle='P@10',\n",
    "    title='Condensed Rankings AntiPrecision vs Precision (Movielens1M)')"
   ]
  },
  {
   "cell_type": "code",
   "execution_count": null,
   "metadata": {},
   "outputs": [],
   "source": [
    "evaluation[['antiprecision_c','precision_c']].corr(method='kendall')"
   ]
  },
  {
   "cell_type": "code",
   "execution_count": null,
   "metadata": {},
   "outputs": [],
   "source": [
    "evaluation.iplot(\n",
    "    x='fallout_c',\n",
    "    y='recall_c',\n",
    "    # Specify the category\n",
    "    categories='algorithm',\n",
    "    xTitle='Fallout@10',\n",
    "    yTitle='Recall@10',\n",
    "    title='Condensed Rankings Fallout vs Recall (Movielens1M)')"
   ]
  },
  {
   "cell_type": "code",
   "execution_count": null,
   "metadata": {},
   "outputs": [],
   "source": [
    "evaluation[['fallout_c','recall_c']].corr(method='kendall')"
   ]
  },
  {
   "cell_type": "markdown",
   "metadata": {},
   "source": [
    "## Full Rankings"
   ]
  },
  {
   "cell_type": "code",
   "execution_count": null,
   "metadata": {},
   "outputs": [],
   "source": [
    "evaluation.iplot(\n",
    "    x='antiprecision',\n",
    "    y='precision',\n",
    "    # Specify the category\n",
    "    categories='algorithm',\n",
    "    xTitle='antiP@10',\n",
    "    yTitle='P@10',\n",
    "    title='Full Rankings AntiPrecision vs Precision (Movielens1M)')"
   ]
  },
  {
   "cell_type": "code",
   "execution_count": null,
   "metadata": {},
   "outputs": [],
   "source": [
    "x_true[['antiprecision','precision']].corr(method='kendall')"
   ]
  },
  {
   "cell_type": "code",
   "execution_count": null,
   "metadata": {},
   "outputs": [],
   "source": [
    "evaluation.iplot(\n",
    "    x='fallout',\n",
    "    y='recall',\n",
    "    # Specify the category\n",
    "    categories='algorithm',\n",
    "    xTitle='antiP@10',\n",
    "    yTitle='P@10',\n",
    "    title='Full Rankings Fallout vs Recall (Movielens1M)')"
   ]
  },
  {
   "cell_type": "code",
   "execution_count": null,
   "metadata": {},
   "outputs": [],
   "source": [
    "x_true[['fallout','recall']].corr(method='kendall')"
   ]
  }
 ],
 "metadata": {
  "kernelspec": {
   "display_name": "Python 3",
   "language": "python",
   "name": "python3"
  },
  "language_info": {
   "codemirror_mode": {
    "name": "ipython",
    "version": 3
   },
   "file_extension": ".py",
   "mimetype": "text/x-python",
   "name": "python",
   "nbconvert_exporter": "python",
   "pygments_lexer": "ipython3",
   "version": "3.7.1"
  }
 },
 "nbformat": 4,
 "nbformat_minor": 2
}
