{
 "cells": [
  {
   "cell_type": "code",
   "execution_count": null,
   "metadata": {},
   "outputs": [],
   "source": [
    "import pandas as pd\n",
    "from scipy import stats"
   ]
  },
  {
   "cell_type": "code",
   "execution_count": null,
   "metadata": {},
   "outputs": [],
   "source": [
    "import utils as ut"
   ]
  },
  {
   "cell_type": "code",
   "execution_count": null,
   "metadata": {},
   "outputs": [],
   "source": [
    "import plotly.graph_objs as go\n",
    "from plotly.offline import init_notebook_mode\n",
    "from plotly.subplots import make_subplots"
   ]
  },
  {
   "cell_type": "code",
   "execution_count": null,
   "metadata": {},
   "outputs": [],
   "source": [
    "movielens = ut.load_data('../evaluation/', 'movielens1M', 'movielens1M_10.csv', ',', 0 )"
   ]
  },
  {
   "cell_type": "code",
   "execution_count": null,
   "metadata": {},
   "outputs": [],
   "source": [
    "movielens = ut.remove_optimals(movielens)"
   ]
  },
  {
   "cell_type": "code",
   "execution_count": null,
   "metadata": {},
   "outputs": [],
   "source": [
    "movielens['algorithm_nick'] = ut.retrieve_nicks(movielens['algorithm'])"
   ]
  },
  {
   "cell_type": "code",
   "execution_count": null,
   "metadata": {},
   "outputs": [],
   "source": [
    "fig = make_subplots(rows=2, cols=2)\n",
    "\n",
    "fig.add_trace(\n",
    "    go.Scatter(\n",
    "        x=movielens['antiprecision'].values,\n",
    "        y=movielens['antiprecision'].values,\n",
    "        mode=\"markers+text\",\n",
    "        text=movielens['algorithm_nick'],\n",
    "        textposition=\"bottom center\"\n",
    "    ),\n",
    "    row=1, col=1\n",
    ")\n",
    "\n",
    "fig.add_trace(\n",
    "    go.Scatter(\n",
    "        x=movielens['precision'].values,\n",
    "        y=movielens['precision'].values,\n",
    "        mode=\"markers+text\",\n",
    "        text=movielens['algorithm_nick'],\n",
    "        textposition=\"bottom center\"\n",
    "    ),\n",
    "    row=1, col=2\n",
    ")\n",
    "\n",
    "fig.add_trace(\n",
    "    go.Scatter(\n",
    "        x=movielens['fallout'].values,\n",
    "        y=movielens['fallout'].values,\n",
    "        mode=\"markers+text\",\n",
    "        text=movielens['algorithm_nick'],\n",
    "        textposition=\"bottom center\"\n",
    "    ),\n",
    "    row=2, col=1\n",
    ")\n",
    "\n",
    "fig.add_trace(\n",
    "    go.Scatter(\n",
    "        x=movielens['recall'].values,\n",
    "        y=movielens['recall'].values,\n",
    "        mode=\"markers+text\",\n",
    "        text=movielens['algorithm_nick'],\n",
    "        textposition=\"bottom center\"\n",
    "    ),\n",
    "    row=2, col=2\n",
    ")\n",
    "\n",
    "\n",
    "# Update xaxis properties\n",
    "fig.update_xaxes(title_text=\"Observed antiP@10\", row=1, col=1)\n",
    "fig.update_xaxes(title_text=\"Observed P@10\", row=1, col=2)\n",
    "fig.update_xaxes(title_text=\"Observed Fallout@10\", row=2, col=1)\n",
    "fig.update_xaxes(title_text=\"Observed Recall@10\", row=2, col=2)\n",
    "\n",
    "# Update yaxis properties\n",
    "fig.update_yaxes(title_text=\"True antiP@10\", row=1, col=1)\n",
    "fig.update_yaxes(title_text=\"True P@10\", row=1, col=2)\n",
    "fig.update_yaxes(title_text=\"True Fallout@10\", row=2, col=1)\n",
    "fig.update_yaxes(title_text=\"True Recall@10\", row=2, col=2)\n",
    "\n",
    "\n",
    "\n",
    "fig.update_layout(height=800, width=1000, title_text=\"Anti-precision vs. precision (left) and fallout vs. recall (right), for condensed (top) vs. full (bottom) rankings in MovieLens 1M\")\n",
    "\n",
    "fig.show()"
   ]
  },
  {
   "cell_type": "code",
   "execution_count": null,
   "metadata": {},
   "outputs": [],
   "source": [
    "tau11, p_value11 = stats.kendalltau(movielens['antiprecision'].values, movielens['antiprecision'].values)\n",
    "tau12, p_value12 = stats.kendalltau(movielens['precision'].values, movielens['precision'].values)\n",
    "tau21, p_value21 = stats.kendalltau(movielens['fallout'].values, movielens['fallout'].values)\n",
    "tau22, p_value22 = stats.kendalltau(movielens['recall'].values, movielens['recall'].values)\n",
    "\n",
    "print(\"tau11: %f , p_value11: %f \" % (tau11, p_value11))\n",
    "print(\"tau12: %f , p_value12: %f \" % ( tau12, p_value12))\n",
    "print(\"tau21: %f , p_value21: %f \" % (tau21, p_value21))\n",
    "print(\"tau22: %f , p_value22: %f \" % (tau22, p_value22))"
   ]
  }
 ],
 "metadata": {
  "kernelspec": {
   "display_name": "Python 3",
   "language": "python",
   "name": "python3"
  },
  "language_info": {
   "codemirror_mode": {
    "name": "ipython",
    "version": 3
   },
   "file_extension": ".py",
   "mimetype": "text/x-python",
   "name": "python",
   "nbconvert_exporter": "python",
   "pygments_lexer": "ipython3",
   "version": "3.7.1"
  }
 },
 "nbformat": 4,
 "nbformat_minor": 2
}
